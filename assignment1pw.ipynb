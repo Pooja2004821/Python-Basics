{
  "nbformat": 4,
  "nbformat_minor": 0,
  "metadata": {
    "colab": {
      "provenance": []
    },
    "kernelspec": {
      "name": "python3",
      "display_name": "Python 3"
    },
    "language_info": {
      "name": "python"
    }
  },
  "cells": [
    {
      "cell_type": "code",
      "execution_count": null,
      "metadata": {
        "id": "t5Oe5YmOGZ48"
      },
      "outputs": [],
      "source": []
    },
    {
      "cell_type": "markdown",
      "source": [
        " Q1.What is Python, and why is it popular?\n",
        " - Python is a high-level, interpreted programming language known for its simplicity and readability. It was created by Guido van Rossum and released in 1991. Python is widely used for web development, data science, automation, artificial intelligence, machine learning, and more.\n",
        "\n",
        " #popularity of python\n",
        " - python is most accessible open source coding language as it has a simple syntax to code.\n",
        " - Easy to Learn & Use\n",
        " - Versatile\n",
        " - Large Community & Support\n",
        " - Extensive Libraries & Frameworks\n",
        " - Cross-Platform Compatibility\n",
        " - Automation & Scripting\n",
        " - Strong Industry Adoption\n",
        "\n",
        "\n",
        " Q2.What is an interpreter in Python?\n",
        " - An interpreter in Python is a program that reads and executes Python code line by line rather than compiling the entire code at once.\n",
        " - example:CPython,PyPy,Jython,IronPython etc.\n",
        "\n",
        "\n",
        " Q3. What are pre-defined keywords in Python?\n",
        " - Python has a set of reserved words (keywords) that have special meanings and cannot be used as variable names, function names, or identifiers.\n",
        "- List of Python Keywords\n",
        "- False, await,else,import,pass,None,break,except,in,raise,True,class,finally,is,return,and,continue,for,lambda,try,as,def,from,nonlocal,while,assert,del,global,not,with,async,elif,if,or,yield\n",
        "\n",
        "\n",
        "Q4.Can keywords be used as variable names?\n",
        "- No, keywords cannot be used as variable names in Python because they have special meanings and are reserved by the language.\n",
        "\n",
        "\n",
        "Q5.What is mutability in Python?\n",
        "- Mutability refers to whether an object in Python can be changed (modified) after it is created.\n",
        "- Examples: list, dict, set, bytearray\n",
        "\n",
        "\n",
        "Q6. Why are lists mutable, but tuples are immutable?\n",
        "1. Lists Are Mutable because lists are designed to be dynamic, meaning elements can be added, removed, or changed.They are stored in memory as references to objects, so individual elements can be updated.\n",
        "Lists use more memory overhead since they allow resizing.\n",
        "2. Tuples Are Immutable because tuples are fixed in size once created.\n",
        "They are stored in memory as a single block of data, making them more efficient.\n",
        "Since tuples cannot be modified, they are hashable and can be used as dictionary keys.\n",
        "\n",
        "Q7.What is the difference between “==” and “is” operators in Python?\n",
        "- == is Equality operator\tand checks if values are the same, example :\ta == b checks if values of a and b are equal.\n",
        "- 'is' is Identity operator\tand checks if memory address (object identity) is the same, example:\ta is b checks if a and b refer to the same object.\n",
        "\n",
        "Q8. What are logical operators in Python?\n",
        "- Logical operators are used to combine conditional statements and return Boolean values (True or False).\n",
        "1. List of Logical Operators in Python\n",
        "- and :\tReturns True if both conditions are true, example:(5 > 3) and (10 > 5) → True\n",
        "- or : Returns True if at least one condition is true, example:\t(5 > 3) or (10 < 5) → True\n",
        "- not :\tReverses the result (True becomes False, and vice versa), example: not(5 > 3) → False\n",
        "\n",
        "\n",
        "Q9.What is type casting in Python?\n",
        "- Type casting (also called type conversion) is the process of converting one data type into another in Python.\n",
        "1. Types of Type Casting :\n",
        "- A. Implicit Type Casting (Automatic Conversion):\n",
        "   - Python automatically converts one data type into another when no data loss\n",
        "     occurs.\n",
        "     Example: Integer to Float (Implicit Conversion)\n",
        "- B. Explicit Type Casting (Manual Conversion):\n",
        "   - We manually force Python to convert a variable’s data type using built-in\n",
        "     functions.\n",
        "\n",
        "     Example:\n",
        "              int(x) \t Converts x to an integer      int(3.6) → 3\n",
        "              float(x)\tConverts x to a float\t       float(5) → 5.0\n",
        "              str(x)\tConverts x to a string\t       str(100) → \"100\"\n",
        "              list(x)\tConverts x to a list\t         list(\"hello\") → ['h', 'e', 'l', 'l', 'o']\n",
        "              tuple(x)\tConverts x to a tuple\t       tuple([1, 2, 3]) → (1, 2, 3)\n",
        "              set(x)\tConverts x to a set\t           set([1, 2, 2, 3]) → {1, 2, 3}\n",
        "\n",
        "\n",
        "Q10. What is the difference between implicit and explicit type casting?\n",
        "- Implicit type casting :\n",
        "   - Definition: Python automatically converts data type without user intervention.\n",
        "   - Data loss: No data loss occurs.\n",
        "   - Safety: Safe, as Python ensures no precision loss.\n",
        "   - Example: int+float=float\n",
        "- Explicit type casting :\n",
        "   - Definition: The user manually converts data types using built-in functions.\n",
        "   - Data loss: Possible data loss.\n",
        "   - Safety: May lead to errors if not done correctly.\n",
        "   - Example: str(\"123\")+int(123)\n",
        "\n",
        "\n",
        "Q11.What is the purpose of conditional statements in Python?\n",
        "- Conditional statements allow a program to make decisions and execute different blocks of code based on certain conditions. They help in controlling the flow of a program.\n",
        "1. Why Use Conditional Statements?\n",
        "   -  Decision Making - Run different code depending on conditions.\n",
        "   -  Control Flow - Skip or execute specific code based on logic.\n",
        "   -  Automation - Create dynamic and interactive programs.\n",
        "2. Types of Conditional Statements in Python\n",
        "   -  if Statement (Executes when the condition is True)\n",
        "   -  if-else Statement (Handles both True and False cases)\n",
        "   -  if-elif-else Statement (Checks multiple conditions)\n",
        "   -  Nested if Statements (Conditions inside conditions)\n",
        "\n",
        "\n",
        "\n",
        "Q12. How does the elif statement work?\n",
        "- The elif (short for \"else if\") statement is used when you need to check multiple conditions in a sequence. It is always used after an if statement and before an else statement (if present).\n",
        "1. Syntax of if-elif-else Statement\n",
        "   - if condition1:\n",
        "      - Executes if condition1 is True\n",
        "   - elif condition2:\n",
        "      - Executes if condition1 is False and condition2 is True\n",
        "   - elif condition3:\n",
        "      - Executes if all previous conditions are False and condition3 is True\n",
        "   - else:\n",
        "      - Executes if none of the above conditions are True\n",
        "2. How elif Works:\n",
        "   - The program checks each condition one by one.If a condition is True, the corresponding block executes, and the rest of the conditions are ignored.If none of the conditions are True, the else block (if present) executes.\n",
        "\n",
        "\n",
        "\n",
        "Q13.What is the difference between for and while loops?\n",
        "- For loop :\n",
        "  - Usage: Used when the number of iterations is known.\n",
        "  - Condition: Iterates over a sequence (like a list, range or string).\n",
        "  - Best for: Iterating through items in a collection.\n",
        "  - Possible Infinite Loop?: No, because it usually iterates over a finite range.\n",
        "  - Example : Print numbers from 1 to 5:\n",
        "     - for i in range(1,6):\n",
        "       - print(i)\n",
        "- While loop :\n",
        "  - Usage: Used when the number of iterations is unknown.\n",
        "  - Condition: Runs as long as a condition remains True.\n",
        "  - Best for: Running a loop until a specific condition is met.\n",
        "  - Possible Infinite Loop: Yes, if the condition never becomes False.\n",
        "  - Example: Print numbers from 1 to 5:\n",
        "     - num=1\n",
        "     - while num <= 5\n",
        "        - print(num)\n",
        "        - num+=1         \n",
        "\n",
        "\n",
        "\n",
        "\n",
        "Q14.Describe a scenario where a while loop is more suitable than a for loop.\n",
        "-  Scenario: User Authentication System\n",
        "Imagine you're building a login system where a user has three attempts to enter the correct password. You don't know how many attempts they will take, so a while loop is a better choice.\n",
        "- Why is while Better Than for Here? :\n",
        "  - Unknown Iterations - You don't know how many times the user will enter the password correctly.\n",
        "  - Condition-Based Looping - The loop stops either when the user succeeds or runs out of attempts.\n",
        "  - More Flexibility - The break statement allows exiting early if the password is correct.\n",
        "\n"
      ],
      "metadata": {
        "id": "DsNW4x7JrDb1"
      }
    },
    {
      "cell_type": "code",
      "source": [
        "                             #Practical Questions\n",
        "# Q1.Write a Python program to print \"Hello, World!\n",
        "print(\"Hello, World!\")"
      ],
      "metadata": {
        "colab": {
          "base_uri": "https://localhost:8080/"
        },
        "id": "-iQRHeb66NZi",
        "outputId": "69fdc6ee-99c5-4242-96f4-416db52da6c2"
      },
      "execution_count": 1,
      "outputs": [
        {
          "output_type": "stream",
          "name": "stdout",
          "text": [
            "Hello, World!\n"
          ]
        }
      ]
    },
    {
      "cell_type": "code",
      "source": [
        "# Q2.Write a Python program that displays your name and age\n",
        "# Define variables\n",
        "name = \"Pooja Deshwal\"  # Replace with your name\n",
        "age = 20           # Replace with your age\n",
        "# Print output\n",
        "print(\"My name is\", name)\n",
        "print(\"I am\", age, \"years old\")\n"
      ],
      "metadata": {
        "colab": {
          "base_uri": "https://localhost:8080/"
        },
        "id": "XfwROnie63V5",
        "outputId": "c56926f1-51fe-487a-a700-fc15ccdc420a"
      },
      "execution_count": 2,
      "outputs": [
        {
          "output_type": "stream",
          "name": "stdout",
          "text": [
            "My name is Pooja Deshwal\n",
            "I am 20 years old\n"
          ]
        }
      ]
    },
    {
      "cell_type": "code",
      "source": [
        "# Q3.Write code to print all the pre-defined keywords in Python using the keyword library.\n",
        "import keyword\n",
        "# Get the list of Python keywords\n",
        "keywords_list = keyword.kwlist\n",
        "# Print all keywords\n",
        "print(\"Python Keywords:\")\n",
        "for kw in keywords_list:\n",
        "    print(kw)"
      ],
      "metadata": {
        "colab": {
          "base_uri": "https://localhost:8080/"
        },
        "id": "Ztuz3P-97Ule",
        "outputId": "a6328f1a-a8f0-4200-e008-f2e89edbde6b"
      },
      "execution_count": 3,
      "outputs": [
        {
          "output_type": "stream",
          "name": "stdout",
          "text": [
            "Python Keywords:\n",
            "False\n",
            "None\n",
            "True\n",
            "and\n",
            "as\n",
            "assert\n",
            "async\n",
            "await\n",
            "break\n",
            "class\n",
            "continue\n",
            "def\n",
            "del\n",
            "elif\n",
            "else\n",
            "except\n",
            "finally\n",
            "for\n",
            "from\n",
            "global\n",
            "if\n",
            "import\n",
            "in\n",
            "is\n",
            "lambda\n",
            "nonlocal\n",
            "not\n",
            "or\n",
            "pass\n",
            "raise\n",
            "return\n",
            "try\n",
            "while\n",
            "with\n",
            "yield\n"
          ]
        }
      ]
    },
    {
      "cell_type": "code",
      "source": [
        "# Q4.Write a program that checks if a given word is a Python keyword.\n",
        "import keyword\n",
        "# Get user input\n",
        "word = input(\"Enter a word to check: \")\n",
        "# Check if it's a keyword\n",
        "if keyword.iskeyword(word):\n",
        "    print(f\"yes '{word}' is a Python keyword.\")\n",
        "else:\n",
        "    print(f\"no '{word}' is NOT a Python keyword.\")\n"
      ],
      "metadata": {
        "colab": {
          "base_uri": "https://localhost:8080/"
        },
        "id": "zTfir_It7l27",
        "outputId": "d27cb4d8-6206-4b42-fd6e-3d6e71e6832a"
      },
      "execution_count": 5,
      "outputs": [
        {
          "output_type": "stream",
          "name": "stdout",
          "text": [
            "Enter a word to check: pooja\n",
            "no 'pooja' is NOT a Python keyword.\n"
          ]
        }
      ]
    },
    {
      "cell_type": "code",
      "source": [
        "# Q5.Create a list and tuple in Python, and demonstrate how attempting to change an element works differently for each\n",
        "#List :\n",
        "# Create a list\n",
        "my_list = [10, 20, 30]\n",
        "# Modify an element in the list\n",
        "my_list[1] = 25  # Changing 20 to 25\n",
        "print(\"Modified List:\", my_list)"
      ],
      "metadata": {
        "colab": {
          "base_uri": "https://localhost:8080/"
        },
        "id": "s3IzfmyS753S",
        "outputId": "c53ccf00-c24e-43d5-f5c7-0dda26ef0c09"
      },
      "execution_count": 6,
      "outputs": [
        {
          "output_type": "stream",
          "name": "stdout",
          "text": [
            "Modified List: [10, 25, 30]\n"
          ]
        }
      ]
    },
    {
      "cell_type": "code",
      "source": [
        "#tuple :\n",
        "# Create a tuple\n",
        "my_tuple = (10, 20, 30)\n",
        "# Try to modify an element\n",
        "my_tuple[1] = 25  # This will cause an error\n"
      ],
      "metadata": {
        "colab": {
          "base_uri": "https://localhost:8080/",
          "height": 182
        },
        "id": "MLAOSDga8lKI",
        "outputId": "de46ae05-b939-4bba-e13b-29dd401191fb"
      },
      "execution_count": 7,
      "outputs": [
        {
          "output_type": "error",
          "ename": "TypeError",
          "evalue": "'tuple' object does not support item assignment",
          "traceback": [
            "\u001b[0;31m---------------------------------------------------------------------------\u001b[0m",
            "\u001b[0;31mTypeError\u001b[0m                                 Traceback (most recent call last)",
            "\u001b[0;32m<ipython-input-7-1725250003d5>\u001b[0m in \u001b[0;36m<cell line: 0>\u001b[0;34m()\u001b[0m\n\u001b[1;32m      3\u001b[0m \u001b[0mmy_tuple\u001b[0m \u001b[0;34m=\u001b[0m \u001b[0;34m(\u001b[0m\u001b[0;36m10\u001b[0m\u001b[0;34m,\u001b[0m \u001b[0;36m20\u001b[0m\u001b[0;34m,\u001b[0m \u001b[0;36m30\u001b[0m\u001b[0;34m)\u001b[0m\u001b[0;34m\u001b[0m\u001b[0;34m\u001b[0m\u001b[0m\n\u001b[1;32m      4\u001b[0m \u001b[0;31m# Try to modify an element\u001b[0m\u001b[0;34m\u001b[0m\u001b[0;34m\u001b[0m\u001b[0m\n\u001b[0;32m----> 5\u001b[0;31m \u001b[0mmy_tuple\u001b[0m\u001b[0;34m[\u001b[0m\u001b[0;36m1\u001b[0m\u001b[0;34m]\u001b[0m \u001b[0;34m=\u001b[0m \u001b[0;36m25\u001b[0m  \u001b[0;31m# This will cause an error\u001b[0m\u001b[0;34m\u001b[0m\u001b[0;34m\u001b[0m\u001b[0m\n\u001b[0m",
            "\u001b[0;31mTypeError\u001b[0m: 'tuple' object does not support item assignment"
          ]
        }
      ]
    },
    {
      "cell_type": "code",
      "source": [
        "# Q6. Write a function to demonstrate the behavior of mutable and immutable arguments\n",
        "def modify_arguments(num, my_list):\n",
        "    # Modify the integer (Immutable)\n",
        "    num += 10\n",
        "    print(\"Inside function (num):\", num)  # Change is local\n",
        "    # Modify the list (Mutable)\n",
        "    my_list.append(4)\n",
        "    print(\"Inside function (list):\", my_list)  # Change is reflected globally\n",
        "# Define an integer and a list\n",
        "x = 5  # Immutable\n",
        "y = [1, 2, 3]  # Mutable\n",
        "print(\"Before function call (x):\", x)\n",
        "print(\"Before function call (y):\", y)\n",
        "# Call function\n",
        "modify_arguments(x, y)\n",
        "print(\"After function call (x):\", x)  # No change (immutable)\n",
        "print(\"After function call (y):\", y)  # Changed (mutable)\n"
      ],
      "metadata": {
        "colab": {
          "base_uri": "https://localhost:8080/"
        },
        "id": "PSV4Wpjf8sNL",
        "outputId": "be2319e8-8829-4012-9f91-8663b2760e85"
      },
      "execution_count": 8,
      "outputs": [
        {
          "output_type": "stream",
          "name": "stdout",
          "text": [
            "Before function call (x): 5\n",
            "Before function call (y): [1, 2, 3]\n",
            "Inside function (num): 15\n",
            "Inside function (list): [1, 2, 3, 4]\n",
            "After function call (x): 5\n",
            "After function call (y): [1, 2, 3, 4]\n"
          ]
        }
      ]
    },
    {
      "cell_type": "code",
      "source": [
        "# Q7.Write a program that performs basic arithmetic operations on two user-input numbers.\n",
        "# Get user input\n",
        "num1 = float(input(\"Enter first number: \"))\n",
        "num2 = float(input(\"Enter second number: \"))\n",
        "# Perform arithmetic operations\n",
        "addition = num1 + num2\n",
        "subtraction = num1 - num2\n",
        "multiplication = num1 * num2\n",
        "division = num1 / num2 if num2 != 0 else \"Undefined (cannot divide by zero)\"\n",
        "modulus = num1 % num2 if num2 != 0 else \"Undefined (cannot divide by zero)\"\n",
        "exponentiation = num1 ** num2\n",
        "# Display results\n",
        "print(\"\\nArithmetic Operations Results:\")\n",
        "print(f\"{num1} + {num2} = {addition}\")\n",
        "print(f\"{num1} - {num2} = {subtraction}\")\n",
        "print(f\"{num1} × {num2} = {multiplication}\")\n",
        "print(f\"{num1} ÷ {num2} = {division}\")\n",
        "print(f\"{num1} % {num2} = {modulus}\")\n",
        "print(f\"{num1} ^ {num2} = {exponentiation}\")\n"
      ],
      "metadata": {
        "colab": {
          "base_uri": "https://localhost:8080/"
        },
        "id": "Qz-n6FFL9AGe",
        "outputId": "e0f72cc6-0d9f-42c9-b8b1-6b3be4dd628e"
      },
      "execution_count": 9,
      "outputs": [
        {
          "output_type": "stream",
          "name": "stdout",
          "text": [
            "Enter first number: 4\n",
            "Enter second number: 5\n",
            "\n",
            "Arithmetic Operations Results:\n",
            "4.0 + 5.0 = 9.0\n",
            "4.0 - 5.0 = -1.0\n",
            "4.0 × 5.0 = 20.0\n",
            "4.0 ÷ 5.0 = 0.8\n",
            "4.0 % 5.0 = 4.0\n",
            "4.0 ^ 5.0 = 1024.0\n"
          ]
        }
      ]
    },
    {
      "cell_type": "code",
      "source": [
        "# Q8. Write a program to demonstrate the use of logical operators.\n",
        "# Get user input\n",
        "a = int(input(\"Enter first number: \"))\n",
        "b = int(input(\"Enter second number: \"))\n",
        "# Demonstrate Logical Operators\n",
        "print(\"\\nLogical Operators Demonstration:\")\n",
        "# AND Operator (Both conditions must be True)\n",
        "print(f\"({a} > 0 and {b} > 0):\", a > 0 and b > 0)\n",
        "# OR Operator (At least one condition must be True)\n",
        "print(f\"({a} > 0 or {b} > 0):\", a > 0 or b > 0)\n",
        "# NOT Operator (Reverses the condition)\n",
        "print(f\"not({a} > 0):\", not (a > 0))\n",
        "print(f\"not({b} > 0):\", not (b > 0))\n"
      ],
      "metadata": {
        "colab": {
          "base_uri": "https://localhost:8080/"
        },
        "id": "4909Ja3A9R9g",
        "outputId": "b173e997-418e-4fc5-dcd9-2b96b8acae46"
      },
      "execution_count": 10,
      "outputs": [
        {
          "output_type": "stream",
          "name": "stdout",
          "text": [
            "Enter first number: 4\n",
            "Enter second number: 9\n",
            "\n",
            "Logical Operators Demonstration:\n",
            "(4 > 0 and 9 > 0): True\n",
            "(4 > 0 or 9 > 0): True\n",
            "not(4 > 0): False\n",
            "not(9 > 0): False\n"
          ]
        }
      ]
    },
    {
      "cell_type": "code",
      "source": [
        "# Q9. Write a Python program to convert user input from string to integer, float, and boolean types.\n",
        "# Get user input as a string\n",
        "user_input = input(\"Enter a value in integer format: \")#write in integer format\n",
        "# Convert input to different types\n",
        "int_value = int(user_input)      # Converts to integer\n",
        "float_value = float(user_input)  # Converts to float\n",
        "bool_value = bool(user_input)    # Converts to boolean\n",
        "# Display results\n",
        "print(\"\\nData Type Conversions:\")\n",
        "print(f\"String: '{user_input}'\")\n",
        "print(f\"Integer: {int_value}\")\n",
        "print(f\"Float: {float_value}\")\n",
        "print(f\"Boolean: {bool_value}\")\n"
      ],
      "metadata": {
        "colab": {
          "base_uri": "https://localhost:8080/"
        },
        "id": "15n_xdkZ9kVS",
        "outputId": "69205fad-0cf7-4a32-e530-46846af874a3"
      },
      "execution_count": 14,
      "outputs": [
        {
          "output_type": "stream",
          "name": "stdout",
          "text": [
            "Enter a value in integer format: 9\n",
            "\n",
            "Data Type Conversions:\n",
            "String: '9'\n",
            "Integer: 9\n",
            "Float: 9.0\n",
            "Boolean: True\n"
          ]
        }
      ]
    },
    {
      "cell_type": "code",
      "source": [
        "# Q10. Write code to demonstrate type casting with list elements.\n",
        "# Original list with string numbers\n",
        "string_list = [\"10\", \"20\", \"30\", \"40.5\", \"50.8\", \"0\", \"\"]\n",
        "# Convert list elements to integers\n",
        "int_list = [int(x) for x in string_list if x.isdigit()]\n",
        "# Convert list elements to floats\n",
        "float_list = [float(x) for x in string_list if x.replace(\".\", \"\", 1).isdigit()]\n",
        "# Convert list elements to booleans\n",
        "bool_list = [bool(x) for x in string_list]\n",
        "# Print results\n",
        "print(\"Original List (Strings):\", string_list)\n",
        "print(\"Integer List:\", int_list)\n",
        "print(\"Float List:\", float_list)\n",
        "print(\"Boolean List:\", bool_list)\n"
      ],
      "metadata": {
        "colab": {
          "base_uri": "https://localhost:8080/"
        },
        "id": "qgA-lQBj-BDC",
        "outputId": "3d8cf8d3-db5a-4c2b-b8f4-b94934cfe9f4"
      },
      "execution_count": 15,
      "outputs": [
        {
          "output_type": "stream",
          "name": "stdout",
          "text": [
            "Original List (Strings): ['10', '20', '30', '40.5', '50.8', '0', '']\n",
            "Integer List: [10, 20, 30, 0]\n",
            "Float List: [10.0, 20.0, 30.0, 40.5, 50.8, 0.0]\n",
            "Boolean List: [True, True, True, True, True, True, False]\n"
          ]
        }
      ]
    },
    {
      "cell_type": "code",
      "source": [
        "# Q11. Write a program that checks if a number is positive, negative, or zero.\n",
        "# Get user input\n",
        "num = float(input(\"Enter a number: \"))\n",
        "# Check if the number is positive, negative, or zero\n",
        "if num > 0:\n",
        "    print(\"The number is Positive.\")\n",
        "elif num < 0:\n",
        "    print(\"The number is Negative.\")\n",
        "else:\n",
        "    print(\"The number is Zero.\")\n"
      ],
      "metadata": {
        "colab": {
          "base_uri": "https://localhost:8080/"
        },
        "id": "JpP10NBQ-idi",
        "outputId": "f68c1932-1785-495b-fbbc-37c51fa24cd9"
      },
      "execution_count": 18,
      "outputs": [
        {
          "output_type": "stream",
          "name": "stdout",
          "text": [
            "Enter a number: 0\n",
            "The number is Zero.\n"
          ]
        }
      ]
    },
    {
      "cell_type": "code",
      "source": [
        "# Q12. Write a for loop to print numbers from 1 to 10\n",
        "# Using a for loop to print numbers from 1 to 10\n",
        "for num in range(1, 11):\n",
        "    print(num)"
      ],
      "metadata": {
        "colab": {
          "base_uri": "https://localhost:8080/"
        },
        "id": "4_Kldy-W-yEq",
        "outputId": "e1e81533-fbc2-4370-d240-99a04f1a542a"
      },
      "execution_count": 19,
      "outputs": [
        {
          "output_type": "stream",
          "name": "stdout",
          "text": [
            "1\n",
            "2\n",
            "3\n",
            "4\n",
            "5\n",
            "6\n",
            "7\n",
            "8\n",
            "9\n",
            "10\n"
          ]
        }
      ]
    },
    {
      "cell_type": "code",
      "source": [
        "# Q13. Write a Python program to find the sum of all even numbers between 1 and 50.\n",
        "# Initialize sum variable\n",
        "sum_even = 0\n",
        "# Loop through even numbers from 2 to 50\n",
        "for num in range(2, 51, 2):\n",
        "    sum_even += num  # Add even number to sum\n",
        "# Print the result\n",
        "print(\"The sum of all even numbers between 1 and 50 is:\", sum_even)\n"
      ],
      "metadata": {
        "colab": {
          "base_uri": "https://localhost:8080/"
        },
        "id": "AaHHOWjg_CBF",
        "outputId": "47b6ccc6-146e-4847-c51c-decdb94f6023"
      },
      "execution_count": 20,
      "outputs": [
        {
          "output_type": "stream",
          "name": "stdout",
          "text": [
            "The sum of all even numbers between 1 and 50 is: 650\n"
          ]
        }
      ]
    },
    {
      "cell_type": "code",
      "source": [
        "# Q14.Write a program to reverse a string using a while loop.\n",
        "# Get user input\n",
        "text = input(\"Enter a string: \")\n",
        "# Initialize variables\n",
        "reversed_text = \"\"\n",
        "index = len(text) - 1  # Start from the last character\n",
        "# Reverse string using while loop\n",
        "while index >= 0:\n",
        "    reversed_text += text[index]  # Append character to reversed_text\n",
        "    index -= 1  # Move to the previous character\n",
        "# Print the reversed string\n",
        "print(\"Reversed String:\", reversed_text)\n"
      ],
      "metadata": {
        "colab": {
          "base_uri": "https://localhost:8080/"
        },
        "id": "D0hMqSfF_NFG",
        "outputId": "f9194f02-ede2-4028-d335-ebf50f4e49cc"
      },
      "execution_count": 21,
      "outputs": [
        {
          "output_type": "stream",
          "name": "stdout",
          "text": [
            "Enter a string: pooja\n",
            "Reversed String: ajoop\n"
          ]
        }
      ]
    },
    {
      "cell_type": "code",
      "source": [
        "# Q15.Write a Python program to calculate the factorial of a number provided by the user using a while loop\n",
        "# Get user input\n",
        "num = int(input(\"Enter a number: \"))\n",
        "# Initialize factorial result and counter\n",
        "factorial = 1\n",
        "i = num\n",
        "# Calculate factorial using while loop\n",
        "while i > 0:\n",
        "    factorial *= i  # Multiply the current value of i\n",
        "    i -= 1  # Decrease i by 1\n",
        "# Print the result\n",
        "print(f\"Factorial of {num} is: {factorial}\")\n"
      ],
      "metadata": {
        "colab": {
          "base_uri": "https://localhost:8080/"
        },
        "id": "XTQjaMW-_ZF8",
        "outputId": "b72855c1-207e-4485-8589-317daf592c39"
      },
      "execution_count": 22,
      "outputs": [
        {
          "output_type": "stream",
          "name": "stdout",
          "text": [
            "Enter a number: 4\n",
            "Factorial of 4 is: 24\n"
          ]
        }
      ]
    },
    {
      "cell_type": "code",
      "source": [],
      "metadata": {
        "id": "YvjV-2Il_sxm"
      },
      "execution_count": null,
      "outputs": []
    }
  ]
}